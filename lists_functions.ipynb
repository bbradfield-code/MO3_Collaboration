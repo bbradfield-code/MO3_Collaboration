{
 "cells": [
  {
   "cell_type": "code",
   "execution_count": null,
   "id": "cb2b5139-9d20-4de6-8367-80cc42c1e259",
   "metadata": {},
   "outputs": [],
   "source": [
    "Brendan Bradfield\n",
    "Ch. 7 & 9 Lists and Functions\n",
    "SDEV 220\n",
    "6/19/2024"
   ]
  },
  {
   "cell_type": "code",
   "execution_count": 9,
   "id": "73fc8b77-6ac5-4832-b5af-19dbf055d866",
   "metadata": {},
   "outputs": [],
   "source": [
    "#7.4\n",
    "things = [\"mozzarella\", \"cinderella\", \"salmonella\"]"
   ]
  },
  {
   "cell_type": "code",
   "execution_count": 11,
   "id": "c4f02e97-f8b0-44f7-95a9-202bd1ea90e1",
   "metadata": {},
   "outputs": [
    {
     "name": "stdout",
     "output_type": "stream",
     "text": [
      "['mozzarella', 'Cinderella', 'salmonella']\n"
     ]
    }
   ],
   "source": [
    "#7.5\n",
    "things = [\"mozzarella\", \"cinderella\", \"salmonella\"]\n",
    "\n",
    "# Capitalize \"cinderella\"\n",
    "things[1] = things[1].capitalize()\n",
    "\n",
    "# Print the list\n",
    "print(things)\n",
    "\n",
    "#Changes the first letter of the cinderella element"
   ]
  },
  {
   "cell_type": "code",
   "execution_count": 13,
   "id": "57d119e3-85b9-41bd-9b09-575a98fdd75d",
   "metadata": {},
   "outputs": [
    {
     "name": "stdout",
     "output_type": "stream",
     "text": [
      "['MOZZARELLA', 'Cinderella', 'salmonella']\n"
     ]
    }
   ],
   "source": [
    "#7.6\n",
    "# Make \"mozzarella\" all uppercase\n",
    "things[0] = things[0].upper()\n",
    "\n",
    "# Print the list\n",
    "print(things)\n",
    "\n",
    "#Changes all elements in mozzarella"
   ]
  },
  {
   "cell_type": "code",
   "execution_count": 15,
   "id": "4f69ebc5-af85-4bbf-a256-85f233f07008",
   "metadata": {},
   "outputs": [
    {
     "name": "stdout",
     "output_type": "stream",
     "text": [
      "['MOZZARELLA', 'Cinderella']\n"
     ]
    }
   ],
   "source": [
    "#7.7\n",
    "# Delete \"salmonella\"\n",
    "del things[2]\n",
    "\n",
    "# Print the list\n",
    "print(things)"
   ]
  },
  {
   "cell_type": "code",
   "execution_count": null,
   "id": "d9b9de0f-e695-4dc8-b47f-7a8887608240",
   "metadata": {},
   "outputs": [],
   "source": [
    "#Ch. 9"
   ]
  },
  {
   "cell_type": "code",
   "execution_count": 3,
   "id": "de3742c1-8117-4835-97b5-d68f3101c977",
   "metadata": {},
   "outputs": [
    {
     "name": "stdout",
     "output_type": "stream",
     "text": [
      "['Harry', 'Ron', 'Hermione']\n"
     ]
    }
   ],
   "source": [
    "#9.1\n",
    "def good():\n",
    "    return ['Harry', 'Ron', 'Hermione']\n",
    "\n",
    "# Example usage:\n",
    "print(good())  # Output: ['Harry', 'Ron', 'Hermione']"
   ]
  },
  {
   "cell_type": "code",
   "execution_count": 1,
   "id": "ffe17efa-46fd-4b1a-8670-45d2e3058347",
   "metadata": {},
   "outputs": [
    {
     "name": "stdout",
     "output_type": "stream",
     "text": [
      "5\n"
     ]
    }
   ],
   "source": [
    "#Ch. 9.2\n",
    "def get_odds():\n",
    "    for number in range(10):\n",
    "        if number % 2 != 0:\n",
    "            yield number\n",
    "\n",
    "# Find and print the third value returned by the generator\n",
    "odds_generator = get_odds()\n",
    "for i, odd in enumerate(odds_generator, 1):\n",
    "    if i == 3:\n",
    "        print(odd)  # Output: 5\n",
    "        break"
   ]
  }
 ],
 "metadata": {
  "kernelspec": {
   "display_name": "Python 3 (ipykernel)",
   "language": "python",
   "name": "python3"
  },
  "language_info": {
   "codemirror_mode": {
    "name": "ipython",
    "version": 3
   },
   "file_extension": ".py",
   "mimetype": "text/x-python",
   "name": "python",
   "nbconvert_exporter": "python",
   "pygments_lexer": "ipython3",
   "version": "3.11.7"
  }
 },
 "nbformat": 4,
 "nbformat_minor": 5
}
