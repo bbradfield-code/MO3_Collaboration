{
 "cells": [
  {
   "cell_type": "code",
   "execution_count": null,
   "id": "ea4bad6b-75f2-45f5-a276-52e6aacdf8a7",
   "metadata": {},
   "outputs": [],
   "source": [
    "Brendan Bradfield\n",
    "Binary Search\n",
    "SDEV220\n",
    "6/19/2024"
   ]
  },
  {
   "cell_type": "code",
   "execution_count": 1,
   "id": "dbfd9685-ece8-4357-b8ce-a95641237135",
   "metadata": {},
   "outputs": [
    {
     "name": "stdout",
     "output_type": "stream",
     "text": [
      "2\n",
      "-1\n"
     ]
    }
   ],
   "source": [
    "class Solution:\n",
    "    def binarysearch(self, arr, N, K):\n",
    "        low = 0\n",
    "        high = N - 1\n",
    "        \n",
    "        while low <= high:\n",
    "            mid = low + (high - low) // 2\n",
    "            \n",
    "            # Check if K is present at mid\n",
    "            if arr[mid] == K:\n",
    "                return mid\n",
    "            # If K is greater, ignore the left half\n",
    "            elif arr[mid] < K:\n",
    "                low = mid + 1\n",
    "            # If K is smaller, ignore the right half\n",
    "            else:\n",
    "                high = mid - 1\n",
    "        \n"
    "        return -1\n",
    "\n",
    "# Example usage:\n",
    "arr = [1, 2, 3, 4, 5]\n",
    "n = len(arr)\n",
    "k = 3\n",
    "ob = Solution()\n",
    "print(ob.binarysearch(arr, n, k))  # Output: 2\n",
    "\n",
    "k = 6\n",
    "print(ob.binarysearch(arr, n, k))  # Output: -1"
   ]
  }
 ],
 "metadata": {
  "kernelspec": {
   "display_name": "Python 3 (ipykernel)",
   "language": "python",
   "name": "python3"
  },
  "language_info": {
   "codemirror_mode": {
    "name": "ipython",
    "version": 3
   },
   "file_extension": ".py",
   "mimetype": "text/x-python",
   "name": "python",
   "nbconvert_exporter": "python",
   "pygments_lexer": "ipython3",
   "version": "3.11.7"
  }
 },
 "nbformat": 4,
 "nbformat_minor": 5
}
