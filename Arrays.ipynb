{
 "cells": [
  {
   "cell_type": "code",
   "execution_count": null,
   "id": "6e2c7480-b6db-48b5-a828-c23b717f9005",
   "metadata": {},
   "outputs": [],
   "source": [
    "Brendan Bradfield\n",
    "Arrays Sort 0s, 1s, and 2s\n",
    "SDEV 220\n",
    "6/19/2024"
   ]
  }
 ],
 "metadata": {
  "kernelspec": {
   "display_name": "Python 3 (ipykernel)",
   "language": "python",
   "name": "python3"
  },
  "language_info": {
   "codemirror_mode": {
    "name": "ipython",
    "version": 3
   },
   "file_extension": ".py",
   "mimetype": "text/x-python",
   "name": "python",
   "nbconvert_exporter": "python",
   "pygments_lexer": "ipython3",
   "version": "3.11.7"
  }
 },
 "nbformat": 4,
 "nbformat_minor": 5
}
