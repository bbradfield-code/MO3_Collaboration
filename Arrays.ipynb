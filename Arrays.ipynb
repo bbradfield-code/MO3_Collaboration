{
 "cells": [
  {
   "cell_type": "code",
   "execution_count": null,
   "id": "ce03cb52-1b33-4d4c-80eb-71e3aabc3573",
   "metadata": {},
   "outputs": [],
   "source": [
    "Brendan Bradfield\n",
    "Arrays of 0, 1, and 2\n",
    "SDEV 220\n",
    "6/19/2024"
   ]
  },
  {
   "cell_type": "code",
   "execution_count": 1,
   "id": "009da42e-fb58-42f8-8364-cf904b698128",
   "metadata": {},
   "outputs": [],
   "source": [
    "class Solution:\n",
    "    \n",
    "    def sort012(self,arr,n):\n",
    "        low=0\n",
    "        high=n-1\n",
    "        mid=0\n",
    "        \n",
    "        while mid<=high:\n",
    "            \n",
    "            if arr[mid]==0:\n",
    "                arr[mid] , arr[low] = arr[low] , arr[mid]\n",
    "                mid+=1\n",
    "                low+=1\n",
    "                \n",
    "            elif arr[mid]==1:\n",
    "                mid+=1\n",
    "                \n",
    "            else:\n",
    "                arr[mid] , arr[high] = arr[high] , arr[mid]\n",
    "                high-=1"
   ]
  }
 ],
 "metadata": {
  "kernelspec": {
   "display_name": "Python 3 (ipykernel)",
   "language": "python",
   "name": "python3"
  },
  "language_info": {
   "codemirror_mode": {
    "name": "ipython",
    "version": 3
   },
   "file_extension": ".py",
   "mimetype": "text/x-python",
   "name": "python",
   "nbconvert_exporter": "python",
   "pygments_lexer": "ipython3",
   "version": "3.11.7"
  }
 },
 "nbformat": 4,
 "nbformat_minor": 5
}
